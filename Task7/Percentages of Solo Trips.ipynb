{
 "cells": [
  {
   "cell_type": "raw",
   "id": "88eba102-21b1-47a9-8e33-6bacab0d9f76",
   "metadata": {},
   "source": [
    "Percentage of Solo Trips for Yellow Taxi's: 73.12%\n",
    "Percentage of Solo Trips for Green Taxi's: 79.07%"
   ]
  }
 ],
 "metadata": {
  "kernelspec": {
   "display_name": "Python 3 (ipykernel)",
   "language": "python",
   "name": "python3"
  },
  "language_info": {
   "codemirror_mode": {
    "name": "ipython",
    "version": 3
   },
   "file_extension": ".py",
   "mimetype": "text/x-python",
   "name": "python",
   "nbconvert_exporter": "python",
   "pygments_lexer": "ipython3",
   "version": "3.10.13"
  }
 },
 "nbformat": 4,
 "nbformat_minor": 5
}
